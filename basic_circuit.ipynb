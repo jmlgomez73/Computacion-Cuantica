{
 "cells": [
  {
   "attachments": {},
   "cell_type": "markdown",
   "id": "925b0300",
   "metadata": {},
   "source": [
    "# ¿Qué es la Computación Cuántica?\n",
    "La Computación Cuántica se refiere al uso de fenómenos de la mecánica cuántica como la superposición y el entrelazamiento para realizar cálculos. Para comprender los fenómenos cuánticos, es importante comprender el qubit , la unidad de información cuántica y los conceptos de superposición y entrelazamiento.\n",
    "\n",
    "# ¿Qué es un Qubit?\n",
    "Qubit o Quantum Bit es la unidad de información cuántica, análoga al 'bit' en la computación clásica. Para diferenciar entre un bit clásico y un qubit, se utiliza la notación de Dirac (notación de ket). Entonces, los qubits se representan como **|0〉** y **|1〉** y, a menudo, se leen como 'estado cero' y 'un estado'.\n",
    "\n",
    "Un bit clásico puede tomar 2 valores: 0 o 1, mientras que un cúbit se representa mediante un vector de estado, además de poder tener estado cero y un estado puede tener ambos al mismo tiempo gracias a la propiedad de superposición.\n",
    "\n",
    "# Superposición y el gato de Schrodinger\n",
    "\n",
    "![0_IWLSnNN7jusbUnl0](https://user-images.githubusercontent.com/67438760/173253887-fb43fbd6-78d5-4598-8ef2-17167833727d.png)\n",
    "\n",
    "Para conceptualizar lo que implica la superposición cuántica frecuentemente se recurre a la historia del gato de Schrodinger, la cual consiste en:\n",
    "\n",
    "Hay un gato en una caja cerrada junto con una botella de veneno; Hay un martillo unido a una sustancia radiactiva, que tiene una probabilidad p de descomponerse en una hora. La configuración experimental se deja en reposo durante una hora.\n",
    "\n",
    "¿Murió el gato cuando la sustancia radiactiva se descompuso, el martillo cayó sobre la botella de veneno rompiéndola o el gato sigue vivo porque la botella de veneno está intacta?\n",
    "\n",
    "A menos que abramos la caja cerrada después de que haya transcurrido el tiempo experimental de una hora, ¡no hay forma de que podamos saber si el gato está vivo o muerto!\n",
    "\n",
    "# Entrelazamiento\n",
    "\n",
    "El entrelazamiento es un fenómeno físico que se produce cuando dos partículas están conectadas al punto que lo que sucede con una inmediatamente afecta a la otra, sin importar cuan grande sea la distancia entre ellas. El entrelazamiento es reproducido en laboratorios, aunque aún no se comprende cómo se produce.\n",
    "\n",
    "Uno de los qubits más utilizados son los giros de fotones . Un fotón puede girar hacia arriba (un estado) o hacia abajo (estados cero). Si tenemos dos fotones entrelazados, entonces deben tener giros opuestos, si uno está arriba, el otro debe estar abajo.\n",
    "\n",
    "# Puertas Cuánticas\n",
    "\n",
    "### Puerta de identidad: \n",
    "\n",
    "Una puerta de identidad es una puerta de un solo qubit que conserva el estado del qubit. Es similar a los búferes en la computación clásica que usamos para mantener los valores de los bits que se usarán para cálculos posteriores cuando hay un retraso en el circuito.\n",
    "\n",
    "![0_Ce2pPmZbEMiJG32Z](https://user-images.githubusercontent.com/67438760/173253904-ae36e8f8-4da0-4ed5-a8ab-94090448b6cf.gif)\n",
    "\n",
    "### Puerta NOT\n",
    "Si el estado del qubit de control es **|0〉** , entonces el estado del qubit entrante no se modifica\n",
    "Si el estado del qubit controlador es **|1〉** , entonces el estado del qubit entrante se invierte .\n",
    "\n",
    "![0_iCgUy2pnLOiEhMxa](https://user-images.githubusercontent.com/67438760/173253968-9e28e400-742e-48cf-90d4-a1db23b753f5.gif)\n",
    "\n",
    "### Puerta NOT Controlada\n",
    "\n",
    "![0_ezovlkP5KRVhY00K](https://user-images.githubusercontent.com/67438760/173253959-c4f6d727-0aaa-49f0-9353-0f88e8686115.gif)\n",
    "\n",
    "Invierte los valores en base al estado del qubit de control\n",
    "\n",
    "### Puerta Hadamard\n",
    "\n",
    "![0_lnynjak-un_LGPo7](https://user-images.githubusercontent.com/67438760/173253984-f102c5f0-a2d1-49d8-9421-5f1609a0a677.jpeg)\n",
    "\n",
    "Hadamard es una puerta de un qubit muy apropiada para generar superposición equiprobable, donde no se favorece ninguno de los estados básicos.\n",
    "En general, cuando se comienza a construir un algoritmo cuántico, se establece un conjunto de qubits de inicialización en estado cero, pero se prepara el circuito para introducir los estados en superposición equiprobables con Hadamard.\n",
    "\n",
    "\n",
    "\n",
    "# Requisitos\n",
    "Podemos emplear el propio compositos de qiskit el cual permite crear circuitos sin escribir código en https://quantum-computing.ibm.com/composer\n",
    "\n",
    "o mediante código, para este último caso:\n",
    "\n",
    "Debemos instalar la libreria de Qiskit y matplotlib para visualizar gráficos"
   ]
  },
  {
   "cell_type": "code",
   "execution_count": null,
   "id": "6eb899d5",
   "metadata": {},
   "outputs": [],
   "source": [
    "!pip install qiskit\n",
    "!pip install matplotlib"
   ]
  },
  {
   "cell_type": "markdown",
   "id": "6294c321",
   "metadata": {},
   "source": [
    "Además debemos crear una cuenta en https://quantum-computing.ibm.com/login, ir a \"My Account\" y copiar el API Token para poder acceder a los dispositivos de IBM Quantum"
   ]
  },
  {
   "cell_type": "code",
   "execution_count": 1,
   "id": "0e8088b4",
   "metadata": {},
   "outputs": [],
   "source": [
    "from qiskit import QuantumCircuit, execute, Aer, IBMQ\n",
    "from qiskit.compiler import transpile, assemble\n",
    "from qiskit.tools.jupyter import *\n",
    "from qiskit.visualization import *\n",
    "import matplotlib\n",
    "\n",
    "IBMQ.save_account(\"INSERT_API_TOKEN\")\n",
    "# Loading your IBM Q account(s)\n",
    "provider = IBMQ.load_account()\n"
   ]
  },
  {
   "cell_type": "markdown",
   "id": "17490111",
   "metadata": {},
   "source": [
    "Los imports empleados son:\n",
    "\n",
    "- QuantumCircuit: Contiene todas sus operaciones cuánticas; las instrucciones para el sistema cuántico\n",
    "- Execute: Ejecuta tu circuito\n",
    "- Aer: Maneja los backends del simulador\n",
    "- qiskit.visualization: Permite la visualización de datos, como plot_histogram"
   ]
  },
  {
   "cell_type": "markdown",
   "id": "10d3ceb4",
   "metadata": {},
   "source": [
    "# Creación de un circuito cuántico que obtenga las probabilidades de que se obtenga 00 o 11\n",
    "\n",
    "Este código pone un qubit en superposición en un dispositivo real de computación cuántica.\n",
    "Para ello y por orden:\n",
    "- Creamos un circuito cuántico que actúe sobre el registro\n",
    "- Añadimos una puerta Hadamard para inducir la superposición\n",
    "- Añadimos una puerta NOT Controlada cuyo qubit de control es 0 y el objetivo es 1\n",
    "- Asignamos una medición cuántica a los bits clásicos, el primer argumento indexa los qubits, el segundo los bits clásicos. El resultado de la medición del enésimo qubit se almacenará en el enésimo bit clásico.\n",
    "- Empleamos el simulador \"qasm_simulator\"\n",
    "- Ejecutamos el circuito para 100.000 veces\n",
    "- Obtenemos y mostramos tanto el circuito como un grafico en base a las probabilidades obtendidas."
   ]
  },
  {
   "cell_type": "code",
   "execution_count": 6,
   "id": "1b4210ad",
   "metadata": {},
   "outputs": [
    {
     "name": "stdout",
     "output_type": "stream",
     "text": [
      "\n",
      "Total count for 00 and 11 are: {'00': 49892, '11': 50108}\n",
      "     ┌───┐     ┌─┐   \n",
      "q_0: ┤ H ├──■──┤M├───\n",
      "     └───┘┌─┴─┐└╥┘┌─┐\n",
      "q_1: ─────┤ X ├─╫─┤M├\n",
      "          └───┘ ║ └╥┘\n",
      "c: 2/═══════════╩══╩═\n",
      "                0  1 \n"
     ]
    },
    {
     "data": {
      "image/png": "[encoded data removed]",
      "text/plain": [
       "<Figure size 504x360 with 1 Axes>"
      ]
     },
     "execution_count": 6,
     "metadata": {},
     "output_type": "execute_result"
    }
   ],
   "source": [
    "# Crear un circuito cuántico actuando sobre el registro q, para este caso solo emplearemos 2 QuantumRegister y 2 ClassicalRegister\n",
    "#los cuales se pueden definir solo con QuantumCircuit\n",
    "circuit = QuantumCircuit(2, 2)\n",
    "\n",
    "# Añade una puerta H en el qubit 0\n",
    "circuit.h(0)\n",
    "\n",
    "# Añade una puerta CX (CNOT) en el qubit de control\n",
    "# qubit 0 y objetivo qubit 1\n",
    "circuit.cx(0, 1)\n",
    "\n",
    "# Asignar la medición cuántica a los bits clásicos\n",
    "circuit.measure([0,1], [0,1])\n",
    "\n",
    "# Usar el qasm_simulador de Aer\n",
    "simulator = Aer.get_backend('qasm_simulator')\n",
    "\n",
    "# Ejecutar el circuito en el simulador qasm\n",
    "job = execute(circuit, simulator, shots=100000)\n",
    "\n",
    "# Obtener los resultados del trabajo\n",
    "result = job.result()\n",
    "\n",
    "# Devuelve los recuentos\n",
    "counts = result.get_counts(circuit)\n",
    "print(\"\\nRecuento total para 00 y 11 son:\",counts)\n",
    "\n",
    "# Dibuja el circuito\n",
    "print(circuit)\n",
    "\n",
    "# Trazar un histograma\n",
    "plot_histogram(counts)"
   ]
  },
  {
   "cell_type": "code",
   "execution_count": null,
   "id": "35acfd9d",
   "metadata": {},
   "outputs": [],
   "source": []
  }
 ],
 "metadata": {
  "kernelspec": {
   "display_name": "Python 3 (ipykernel)",
   "language": "python",
   "name": "python3"
  },
  "language_info": {
   "codemirror_mode": {
    "name": "ipython",
    "version": 3
   },
   "file_extension": ".py",
   "mimetype": "text/x-python",
   "name": "python",
   "nbconvert_exporter": "python",
   "pygments_lexer": "ipython3",
   "version": "3.10.4"
  }
 },
 "nbformat": 4,
 "nbformat_minor": 5
}
