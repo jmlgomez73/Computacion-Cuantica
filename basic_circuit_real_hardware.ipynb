{
 "cells": [
  {
   "cell_type": "code",
   "execution_count": 20,
   "id": "1b4210ad",
   "metadata": {},
   "outputs": [
    {
     "name": "stderr",
     "output_type": "stream",
     "text": [
      "ibmqfactory.load_account:WARNING:2022-06-13 22:07:15,991: Credentials are already in use. The existing account in the session will be replaced.\n"
     ]
    },
    {
     "name": "stdout",
     "output_type": "stream",
     "text": [
      "Job Status: job has successfully run\n",
      "     ┌───┐     ┌─┐   \n",
      "q_0: ┤ H ├──■──┤M├───\n",
      "     └───┘┌─┴─┐└╥┘┌─┐\n",
      "q_1: ─────┤ X ├─╫─┤M├\n",
      "          └───┘ ║ └╥┘\n",
      "c: 2/═══════════╩══╩═\n",
      "                0  1 \n"
     ]
    },
    {
     "data": {
      "image/png": "[encoded data removed]",
      "text/plain": [
       "<Figure size 504x360 with 1 Axes>"
      ]
     },
     "execution_count": 20,
     "metadata": {},
     "output_type": "execute_result"
    }
   ],
   "source": [
    "from qiskit import QuantumCircuit, execute, Aer, IBMQ\n",
    "from qiskit.compiler import transpile, assemble\n",
    "from qiskit.tools.jupyter import *\n",
    "from qiskit.tools.monitor import job_monitor\n",
    "from qiskit.visualization import *\n",
    "import matplotlib\n",
    "\n",
    "IBMQ.delete_account()\n",
    "IBMQ.save_account('YOUR API KEY')\n",
    "# Loading your IBM Q account(s)\n",
    "IBMQ.load_account()\n",
    "\n",
    "num_qubits = 2\n",
    "\n",
    "# Obtenemos el provider\n",
    "provider = IBMQ.get_provider(hub='ibm-q', group='open', project='main')\n",
    "\n",
    "# Obtenemos un system backend\n",
    "backend = provider.get_backend('ibmq_santiago')\n",
    "\n",
    "# Crear un circuito cuántico actuando sobre el registro q, para este caso solo emplearemos 2 QuantumRegister y 2 ClassicalRegister\n",
    "#los cuales se pueden definir solo con QuantumCircuit\n",
    "circuit = QuantumCircuit(2, 2)\n",
    "\n",
    "# Añade una puerta H en el qubit 0\n",
    "circuit.h(0)\n",
    "\n",
    "# Añade una puerta CX (CNOT) en el qubit de control\n",
    "# qubit 0 y objetivo qubit 1\n",
    "circuit.cx(0, 1)\n",
    "\n",
    "# Asignar la medición cuántica a los bits clásicos\n",
    "circuit.measure([0,1], [0,1])\n",
    "\n",
    "# Ejecutar el circuito en un trabajo\n",
    "job = execute(circuit, backend=backend)\n",
    "\n",
    "# Obtenemos el estado del trabajo\n",
    "job.status()\n",
    "\n",
    "# Monitorizamos el job\n",
    "job_monitor(job)\n",
    "\n",
    "# Obtenemos el resultado\n",
    "result = job.result()\n",
    "\n",
    "# Dibuja el circuito\n",
    "print(circuit)\n",
    "\n",
    "# Devuelve los recuentos\n",
    "plot_histogram(result.get_counts(circuit))"
   ]
  },
  {
   "cell_type": "code",
   "execution_count": null,
   "id": "35acfd9d",
   "metadata": {},
   "outputs": [],
   "source": []
  }
 ],
 "metadata": {
  "kernelspec": {
   "display_name": "Python 3 (ipykernel)",
   "language": "python",
   "name": "python3"
  },
  "language_info": {
   "codemirror_mode": {
    "name": "ipython",
    "version": 3
   },
   "file_extension": ".py",
   "mimetype": "text/x-python",
   "name": "python",
   "nbconvert_exporter": "python",
   "pygments_lexer": "ipython3",
   "version": "3.10.4"
  },
  "vscode": {
   "interpreter": {
    "hash": "ee3a5cc96be9e4602e33da2c22ebb3a77080309793ba92f2a2f518432300492f"
   }
  }
 },
 "nbformat": 4,
 "nbformat_minor": 5
}
